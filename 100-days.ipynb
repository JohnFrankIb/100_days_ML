{
 "cells": [
  {
   "cell_type": "markdown",
   "metadata": {},
   "source": [
    "<p style=\"padding:20px;background-color:#008b8b;text-align:center;font-family:monospace;color:#4a235a;font-size:26px;font-weight:500;border-radius:15px;border:dotted 3px\"><b>👨🏻‍💻 100 Días de Machine Learning 👨🏻‍💻</b></p>"
   ]
  },
  {
   "cell_type": "markdown",
   "metadata": {},
   "source": [
    "<p id=\"indice\" style=\"text-align:center;padding:5px;background-color:#008b8b;font-size:25px;font-family:monospace;color:#4a235a;border-radius:10px;\"><b>🔬 Indice 🔬</b></p>\n",
    "\n",
    "<div style=\"margin-top:-20px;padding:1px;background-color:#4a235a;border-radius:20px;\">\n",
    "\n",
    "🔶 <a href=\"#dia1\" style=\"font-family:monospace;\"><b>Día 1 | Data Preprocessing</b></a>\n",
    "\n",
    "🔶 <a href=\"#dia2\" style=\"font-family:monospace;\"><b>Día 2 | Simple Linear Regression</b></a>\n",
    "\n",
    "🔶 <a href=\"#dia3\" style=\"font-family:monospace;\"><b>Día 3 | Multiple Linear Regression</b></a>\n",
    "\n",
    "🔶 <a href=\"#dia4\" style=\"font-family:monospace;\"><b>Día 4 | Logistic Regression</b></a>"
   ]
  },
  {
   "cell_type": "markdown",
   "metadata": {},
   "source": [
    "# <p id=\"dia1\" style=\"text-align:center;padding:10px;background-color:#008b8b;font-size:25px;font-family:monospace;color:#4a235a;border-radius:10px\"><b>Día 1 | Data Preprocessing</b></p>\n",
    "\n",
    "<div style=\"text-align:center;margin-top:-20px;padding:1px;background-color:#4a235a;border-radius:20px;\"><a href=\"#indice\">Regresar al indice.</a>"
   ]
  },
  {
   "cell_type": "markdown",
   "metadata": {},
   "source": [
    "<div style=\"background-color:#d16002;padding:10px;border-radius:10px;font-family:monospace;font-size:17px;color:beige\">\n",
    "\n",
    "<p style=\"font-family:monospace;font-size:20px;text-align:center;;background-color:#df1621;padding-left:5px;margin-right:340px;border-radius:10px;\">🟣 Paso 1: <b>Importar librerías necesarias.</b>🟣</p>\n",
    "\n",
    "Hay dos librerías esenciales que debemos importar siempre.\n",
    "\n",
    "<b>Numpy</b>: es una librería que contiene funciones matematicas.\n",
    "\n",
    "<b>Pandas</b>: Es una librería utilizada para importar y manejar las bases de datos.\n",
    "\n",
    "<p style=\"font-family:monospace;font-size:20px;text-align:center;;background-color:#df1621;padding-left:5px;margin-right:373px;border-radius:10px;\">🟣 Paso 2: <b>Importar Conjunto de Datos.</b>🟣</p>\n",
    "\n",
    "Estan generalmente disponibles en formato .csv (comma separated value), que puede venir separado por comas o por tabulaciones.\n",
    "\n",
    "Utilizamos el metodo <b>read_csv</b> para importar la base de datos.\n",
    "\n",
    "<p style=\"font-family:monospace;font-size:20px;text-align:center;;background-color:#df1621;padding-left:5px;margin-right:383px;border-radius:10px;\">🟣 Paso 3: <b>Manejo de Datos Faltantes.</b>🟣</p>\n",
    "\n",
    "Los datos que recolectamos raramente están homogeneos. Pueden faltar varios datos por diversas razones y eso afecta el rendimiento del modelo que crearemos.\n",
    "\n",
    "Podemos utilizar un <b>Imputer</b> de <b>sklearn.preprocessing</b> para manejar algunos datos\n",
    "\n",
    "No todos los datos faltantes se manejan de la misma forma, tienes que entender por qué faltan esos datos para poder imputarlos.\n",
    "\n",
    "<p style=\"font-family:monospace;font-size:20px;text-align:center;;background-color:#df1621;padding-left:5px;margin-right:285px;border-radius:10px;\">🟣 Paso 4: <b>Codificación de valores categoricos</b>🟣</p>\n",
    "\n",
    "Los valores <b>categoricos</b> son variables que contienen <b>texto</b> en lugar de numeros, los modelos de inteligencia artificial no reconocen letras, por lo que debemos codificar esos valores para que tengan un valor numerico.\n",
    "\n",
    "Por ejemplo si los valores fueran <b>\"Sí\"</b> y <b>\"No\"</b>, podríamos codificarlos para que su valor sea <b>\"1\"</b> y <b>\"0\"</b>.\n",
    "\n",
    "También podemos apoyarnos de <b>LabelEncoder</b>, que es una librería proveniente de <b>sklearn.preprocessing</b> para poder codificar los valores de una columna.\n",
    "\n",
    "<p style=\"font-family:monospace;font-size:20px;text-align:center;;background-color:#df1621;padding-left:5px;margin-right:82px;border-radius:10px;\">🟣 Paso 5: <b>Dividiendo el Conjunto de Datos en Training y Testing.</b>🟣</p>\n",
    "\n",
    "La division entre el Conjunto de Datos generalmente se hace de <b>80% para Training</b> y el <b>20% para Testing</b>.\n",
    "\n",
    "Para crear la división utilizamos la librería <b>train_test_split</b> de <b>sklearn.model_selection</b>.\n",
    "\n",
    "<p style=\"font-family:monospace;font-size:20px;background-color:#df1621;padding-left:5px;margin-right:459px;border-radius:10px;text-align:center;\">🟣 Paso 6: <b>Escalado de Valores</b>🟣</p>\n",
    "\n",
    "La mayoría de los modelos de inteligencia artificial utilizan la distancia Euclediana entre dos puntos. Valores con magnitudes muy variadas puede generar problemas, por lo que la estandarización de estos valores nos ayuda a evitarlos.\n",
    "\n",
    "Podemos apoyarnos de la librería <b>StandardScalar</b> de <b>sklearn.preprocessing</b>."
   ]
  },
  {
   "cell_type": "markdown",
   "metadata": {},
   "source": [
    "# <p id=\"dia2\" style=\"text-align:center;padding:10px;background-color:#008b8b;font-size:25px;font-family:monospace;color:#4a235a;border-radius:10px\"><b>Día 2 | Simple Linear Regression</b></p>\n",
    "\n",
    "<div style=\"text-align:center;margin-top:-20px;padding:1px;background-color:#4a235a;border-radius:20px;\"><a href=\"#indice\">Regresar al indice.</a>"
   ]
  },
  {
   "cell_type": "markdown",
   "metadata": {},
   "source": [
    "<div style=\"background-color:#d16002;padding:10px;border-radius:10px;font-family:monospace;font-size:18px;color:beige\">\n",
    "\n",
    "<p style=\"font-family:monospace;font-size:20px;background-color:#df1621;padding-left:5px;margin-right:663px;border-radius:10px;text-align:center;\">🟣<b> Qué es? </b>🟣</p>\n",
    "\n",
    "Es un metodo para predecir <b>variables dependientes (Y)</b> basada en los <b>valores independientes (X)</b>. Se asume que las dos variables estan linealmente relacionadas. Por eso, se busca una función lineal que haga la predicción del valor <b>Y</b> los más preciso posible.\n",
    "\n",
    "<p style=\"font-size:23px;text-align:center;margin-bottom:-10px\"><b>Formulas</b></p>\n",
    "<p style=\"font-size:20px;text-align:center;\"><b>Y = b + b1x1</b></p>\n",
    "<p style=\"font-size:20px;text-align:center;\"><b>score = b + b1 * hours</b></p>"
   ]
  },
  {
   "cell_type": "markdown",
   "metadata": {},
   "source": [
    "<p style=\"font-family:monospace;font-size:20px;text-align:center;;background-color:#df1621;padding-left:5px;margin-right:340px;border-radius:10px;color:beige;\">🟣<b>Preprocesamiento de los datos</b>🟣</p>"
   ]
  },
  {
   "cell_type": "code",
   "execution_count": 24,
   "metadata": {},
   "outputs": [],
   "source": [
    "# Vamos a seguir los pasos del tema anterior, comenzando por la importación de las librerías.\n",
    "import pandas as pd\n",
    "import numpy as np\n",
    "import matplotlib.pyplot as plt\n",
    "from sklearn.model_selection import train_test_split\n",
    "from sklearn.linear_model import LinearRegression\n",
    "\n",
    "# Ahora importamos el Conjunto de Datos.\n",
    "df = pd.read_csv('datasets/studentscores.csv')\n",
    "# Variable Independiente\n",
    "x = df.iloc[:,:1].values\n",
    "# Variable Dependiente\n",
    "y = df.iloc[:,1:2].values\n",
    "\n",
    "# Dividimos el conjunto en Training y Testing.\n",
    "x_train,x_test,y_train,y_test = train_test_split(x,y,test_size=1/4,random_state=0)"
   ]
  },
  {
   "cell_type": "markdown",
   "metadata": {},
   "source": [
    "<p style=\"font-family:monospace;font-size:20px;text-align:center;;background-color:#df1621;padding-left:5px;margin-right:340px;border-radius:10px;color:beige;\">🟣<b> Ajuste del Modelo al Conjunto de Entrenamiento </b>🟣</p>"
   ]
  },
  {
   "cell_type": "code",
   "execution_count": 26,
   "metadata": {},
   "outputs": [
    {
     "data": {
      "text/plain": [
       "array([[16.84472176],\n",
       "       [33.74557494],\n",
       "       [75.50062397],\n",
       "       [26.7864001 ],\n",
       "       [60.58810646],\n",
       "       [39.71058194],\n",
       "       [20.8213931 ]])"
      ]
     },
     "execution_count": 26,
     "metadata": {},
     "output_type": "execute_result"
    }
   ],
   "source": [
    "# Creamos el modelo de Regresion Lineal.\n",
    "lr = LinearRegression()\n",
    "\n",
    "# Lo entrenamos con nuestro conjunto de Training.\n",
    "lr.fit(x_train,y_train)\n",
    "\n",
    "# Revisamos las predicciones.\n",
    "lr.predict(x_test)"
   ]
  },
  {
   "cell_type": "markdown",
   "metadata": {},
   "source": [
    "<p style=\"font-family:monospace;font-size:20px;background-color:#df1621;padding-left:5px;margin-right:750px;text-align:center;border-radius:10px;color:beige;\">🟣<b> Visualización </b>🟣</p>"
   ]
  },
  {
   "cell_type": "code",
   "execution_count": null,
   "metadata": {},
   "outputs": [
    {
     "data": {
      "image/png": "[encoded data removed]",
      "text/plain": [
       "<Figure size 640x480 with 1 Axes>"
      ]
     },
     "metadata": {},
     "output_type": "display_data"
    }
   ],
   "source": [
    "# Visualización del Conjunto de Training.\n",
    "plt.scatter(x_train,y_train,color='darkcyan')\n",
    "plt.plot(x_train,lr.predict(x_train),color='#4a235a');"
   ]
  },
  {
   "cell_type": "code",
   "execution_count": 36,
   "metadata": {},
   "outputs": [
    {
     "data": {
      "image/png": "[encoded data removed]",
      "text/plain": [
       "<Figure size 640x480 with 1 Axes>"
      ]
     },
     "metadata": {},
     "output_type": "display_data"
    }
   ],
   "source": [
    "# Visualización del Conjunto de Testing.\n",
    "plt.scatter(x_test,y_test,color='darkcyan')\n",
    "plt.plot(x_test,lr.predict(x_test),color='#4a235a');"
   ]
  },
  {
   "cell_type": "markdown",
   "metadata": {},
   "source": [
    "# <p id=\"dia3\" style=\"text-align:center;padding:10px;background-color:#008b8b;font-size:25px;font-family:monospace;color:#4a235a;border-radius:10px\"><b>Día 3 | Multiple Linear Regression</b></p>\n",
    "\n",
    "<div style=\"text-align:center;margin-top:-20px;padding:1px;background-color:#4a235a;border-radius:20px;\"><a href=\"#indice\">Regresar al indice.</a>"
   ]
  },
  {
   "cell_type": "markdown",
   "metadata": {},
   "source": [
    "<div style=\"background-color:#d16002;padding:10px;border-radius:10px;font-family:monospace;font-size:18px;color:beige\">\n",
    "\n",
    "<p style=\"font-family:monospace;font-size:20px;text-align:center;background-color:#df1621;padding-left:5px;margin-right:663px;border-radius:10px;\">🟣<b> Qué es? </b>🟣</p>\n",
    "\n",
    "Es un modelo de ML que se centra en la relación entre dos o más variables.\n",
    "\n",
    "<p style=\"font-size:23px;text-align:center;margin-bottom:-10px;\"><b>Formulas</b></p>\n",
    "<p style=\"font-size:20px;text-align:center;\"><b>Y = b + b1x1 + b2x1 ...</b></p>\n",
    "\n",
    "<p style=\"font-family:monospace;font-size:20px;background-color:#df1621;padding-left:5px;margin-right:363px;border-radius:10px;text-align:center;\">🟣<b> Esencial validar estas suposiciones. </b>🟣</p>\n",
    "\n",
    "<div style=\"font-size:20px\">\n",
    "<b>1.- Linealidad</b>: La relación entre las variables dependientes e independientes deben ser Lineales.\n",
    "\n",
    "<b>2.- Homocedasticidad</b>: (Varianza constante) Los errores deben mantenerse.\n",
    "\n",
    "<b>3.- Normalidad Multivariada</b>: Supone que los residuos se distribuyen normalmente.\n",
    "\n",
    "<b>4.- Falta de Multicolinealidad</b>: Se supone que hay poca o ninguna multicolinealidad en los Datos. Ocurre cuando las caracteristicas (o variables independientes) no son independientes entre si.\n",
    "\n",
    "<p style=\"font-family:monospace;font-size:20px;background-color:#4a235a;padding-left:5px;margin-right:363px;border-radius:10px;\">🔴<b> Nota: </b>🔴 Tener muchas variables podría potencialmente causar que nuestro modelo se vuelva menos preciso, especialmente si ciertas variables no tienen efecto o relevancia en el resultado.</p>\n",
    "\n"
   ]
  },
  {
   "cell_type": "code",
   "execution_count": 22,
   "metadata": {},
   "outputs": [],
   "source": [
    "# Importamos las librerías necesarias.\n",
    "import pandas as pd\n",
    "import numpy as np\n",
    "from sklearn.preprocessing import LabelEncoder, OneHotEncoder\n",
    "from sklearn.model_selection import train_test_split\n",
    "from sklearn.linear_model import LinearRegression\n",
    "\n",
    "# Importamos el Conjunto de Datos.\n",
    "df = pd.read_csv('datasets/50_Startups.csv')\n",
    "x = df.drop('Profit',axis=1).values\n",
    "y = df['Profit'].values\n",
    "\n",
    "# Codificamos los Datos Categoricos.\n",
    "labelencoder = LabelEncoder()\n",
    "x[:,3] = labelencoder.fit_transform(x[:,3])\n",
    "onehotencoder = OneHotEncoder()\n",
    "x = onehotencoder.fit_transform(x).toarray()\n",
    "\n",
    "# Evitar la Trampa de variables ficticias (Dummy Variables).\n",
    "x = x[:,1:]\n",
    "\n",
    "# Dividiendo el Conjunto de Datos en Training y Testing.\n",
    "x_train,x_test,y_train,y_test = train_test_split(x,y,test_size=0.2,random_state=0)\n",
    "\n",
    "# Encajando la Regresion Lineal Multiple al conjunto de entrenamiento (Training).\n",
    "lr = LinearRegression()\n",
    "lr.fit(x_train,y_train)\n",
    "\n",
    "# Predecimos los resultados con el Testing\n",
    "yhat = lr.predict(x_test)"
   ]
  },
  {
   "cell_type": "markdown",
   "metadata": {},
   "source": [
    "# <p id=\"dia4\" style=\"text-align:center;padding:10px;background-color:#008b8b;font-size:25px;font-family:monospace;color:#4a235a;border-radius:10px\"><b>Día 4 | Logistic Regression</b></p>\n",
    "\n",
    "<div style=\"text-align:center;margin-top:-20px;padding:1px;background-color:#4a235a;border-radius:20px;\"><a href=\"#indice\">Regresar al indice.</a>"
   ]
  },
  {
   "cell_type": "markdown",
   "metadata": {},
   "source": [
    "Links necesarios para este Tema | Incluyen el día 4, 5, 6 y 8\n",
    "\n",
    "**Nota**: Usar libreta o pizarron para analisis del tema.\n",
    "\n",
    "- **Día 4 y 6**: https://github.com/Avik-Jain/100-Days-Of-ML-Code/blob/master/Code/Day%206%20Logistic%20Regression.md\n",
    "\n",
    "- **Día 8**:\n",
    "    - https://towardsdatascience.com/logistic-regression-detailed-overview-46c4da4303bc\n",
    "    - https://github.com/SSaishruthi/LogisticRegression_Vectorized_Implementation/blob/master/Logistic_Regression.ipynb\n",
    "\n",
    "- **Día 5**: No es nada."
   ]
  }
 ],
 "metadata": {
  "kernelspec": {
   "display_name": "env",
   "language": "python",
   "name": "python3"
  },
  "language_info": {
   "codemirror_mode": {
    "name": "ipython",
    "version": 3
   },
   "file_extension": ".py",
   "mimetype": "text/x-python",
   "name": "python",
   "nbconvert_exporter": "python",
   "pygments_lexer": "ipython3",
   "version": "3.12.4"
  }
 },
 "nbformat": 4,
 "nbformat_minor": 2
}
